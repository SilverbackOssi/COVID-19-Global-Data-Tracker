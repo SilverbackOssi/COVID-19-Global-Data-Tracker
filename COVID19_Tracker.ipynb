{
 "cells": [
  {
   "cell_type": "markdown",
   "id": "0a3f95b9",
   "metadata": {},
   "source": [
    "# Load and Explore owid covid data"
   ]
  },
  {
   "cell_type": "code",
   "execution_count": null,
   "id": "f0254bb7",
   "metadata": {},
   "outputs": [],
   "source": [
    "import pandas as pd"
   ]
  },
  {
   "cell_type": "code",
   "execution_count": null,
   "id": "6d8aeacc",
   "metadata": {},
   "outputs": [],
   "source": [
    "# Load dataset\n",
    "df = pd.read_csv('owid-covid-data.csv')\n",
    "\n",
    "# Check columns\n",
    "print(df.columns)"
   ]
  },
  {
   "cell_type": "code",
   "execution_count": null,
   "id": "5c94c456",
   "metadata": {},
   "outputs": [],
   "source": [
    "# Preview first 5 rows\n",
    "df.head()\n",
    "\n",
    "# Check for missing values\n",
    "df.isnull().sum()\n"
   ]
  },
  {
   "cell_type": "markdown",
   "id": "6e410a82",
   "metadata": {},
   "source": [
    "# Clean the Data"
   ]
  },
  {
   "cell_type": "code",
   "execution_count": null,
   "id": "f79e8b00",
   "metadata": {},
   "outputs": [],
   "source": [
    "countries = ['Kenya', 'United States', 'India']\n",
    "df = df[df['location'].isin(countries)]\n",
    "\n",
    "# Convert date column to datetime\n",
    "df['date'] = pd.to_datetime(df['date'])\n",
    "\n",
    "# Drop rows with missing critical values\n",
    "df = df.dropna(subset=['date', 'total_cases', 'total_deaths'])\n",
    "\n",
    "# Fill or interpolate other missing numeric values\n",
    "df = df.fillna(method='ffill')\n"
   ]
  },
  {
   "cell_type": "markdown",
   "id": "4461d6ff",
   "metadata": {},
   "source": [
    "# Exploratory Data Analysis (EDA)"
   ]
  },
  {
   "cell_type": "markdown",
   "id": "ac18a423",
   "metadata": {},
   "source": [
    "### 📈 Plot Total Cases Over Time"
   ]
  },
  {
   "cell_type": "code",
   "execution_count": null,
   "id": "fd4dbe31",
   "metadata": {},
   "outputs": [],
   "source": [
    "import matplotlib.pyplot as plt\n",
    "import seaborn as sns\n",
    "\n",
    "plt.figure(figsize=(12,6))\n",
    "for country in countries:\n",
    "    country_data = df[df['location'] == country]\n",
    "    plt.plot(country_data['date'], country_data['total_cases'], label=country)\n",
    "\n",
    "plt.title(\"Total COVID-19 Cases Over Time\")\n",
    "plt.xlabel(\"Date\")\n",
    "plt.ylabel(\"Total Cases\")\n",
    "plt.legend()\n",
    "plt.show()\n"
   ]
  },
  {
   "cell_type": "markdown",
   "id": "682e4e21",
   "metadata": {},
   "source": [
    "### 📈 Daily New Cases Comparison"
   ]
  },
  {
   "cell_type": "code",
   "execution_count": null,
   "id": "aa778e93",
   "metadata": {},
   "outputs": [],
   "source": [
    "plt.figure(figsize=(12,6))\n",
    "for country in countries:\n",
    "    country_data = df[df['location'] == country]\n",
    "    plt.plot(country_data['date'], country_data['new_cases'], label=country)\n",
    "\n",
    "plt.title(\"Daily New Cases\")\n",
    "plt.xlabel(\"Date\")\n",
    "plt.ylabel(\"New Cases\")\n",
    "plt.legend()\n",
    "plt.show()\n"
   ]
  },
  {
   "cell_type": "markdown",
   "id": "73dac058",
   "metadata": {},
   "source": [
    "### 💀 Calculate & Plot Death Rate"
   ]
  },
  {
   "cell_type": "code",
   "execution_count": null,
   "id": "7f187674",
   "metadata": {},
   "outputs": [],
   "source": [
    "df['death_rate'] = df['total_deaths'] / df['total_cases']\n",
    "\n",
    "plt.figure(figsize=(12,6))\n",
    "for country in countries:\n",
    "    country_data = df[df['location'] == country]\n",
    "    plt.plot(country_data['date'], country_data['death_rate'], label=country)\n",
    "\n",
    "plt.title(\"COVID-19 Death Rate Over Time\")\n",
    "plt.xlabel(\"Date\")\n",
    "plt.ylabel(\"Death Rate\")\n",
    "plt.legend()\n",
    "plt.show()\n"
   ]
  },
  {
   "cell_type": "markdown",
   "id": "a2125f46",
   "metadata": {},
   "source": [
    "## Analyze Vaccination Progress"
   ]
  },
  {
   "cell_type": "code",
   "execution_count": null,
   "id": "1f96ee9a",
   "metadata": {},
   "outputs": [],
   "source": [
    "plt.figure(figsize=(12,6))\n",
    "for country in countries:\n",
    "    country_data = df[df['location'] == country]\n",
    "    plt.plot(country_data['date'], country_data['total_vaccinations'], label=country)\n",
    "\n",
    "plt.title(\"Total Vaccinations Over Time\")\n",
    "plt.xlabel(\"Date\")\n",
    "plt.ylabel(\"Total Vaccinations\")\n",
    "plt.legend()\n",
    "plt.show()\n"
   ]
  },
  {
   "cell_type": "markdown",
   "id": "c080dde8",
   "metadata": {},
   "source": [
    "###  % of population vaccinated"
   ]
  },
  {
   "cell_type": "code",
   "execution_count": null,
   "id": "cffcf1de",
   "metadata": {},
   "outputs": [],
   "source": [
    "plt.figure(figsize=(12,6))\n",
    "for country in countries:\n",
    "    country_data = df[df['location'] == country]\n",
    "    plt.plot(country_data['date'], country_data['people_fully_vaccinated_per_hundred'], label=country)\n",
    "\n",
    "plt.title(\"Fully Vaccinated (% of Population)\")\n",
    "plt.xlabel(\"Date\")\n",
    "plt.ylabel(\"% Fully Vaccinated\")\n",
    "plt.legend()\n",
    "plt.show()\n"
   ]
  },
  {
   "cell_type": "markdown",
   "id": "d355c0d6",
   "metadata": {},
   "source": [
    "## Choropleth Map with Plotly"
   ]
  },
  {
   "cell_type": "code",
   "execution_count": null,
   "id": "f1c333e4",
   "metadata": {},
   "outputs": [],
   "source": [
    "import plotly.express as px\n",
    "\n",
    "# Use latest data\n",
    "latest_date = df['date'].max()\n",
    "latest_data = df[df['date'] == latest_date]\n",
    "\n",
    "fig = px.choropleth(latest_data,\n",
    "                    locations=\"iso_code\",\n",
    "                    color=\"total_cases\",\n",
    "                    hover_name=\"location\",\n",
    "                    title=\"Total COVID-19 Cases by Country\",\n",
    "                    color_continuous_scale='Reds')\n",
    "fig.show()\n"
   ]
  },
  {
   "cell_type": "markdown",
   "id": "005f9f03",
   "metadata": {},
   "source": [
    "# Insights:\n",
    "- The USA had the highest total cases but also rolled out vaccines rapidly.\n",
    "- Kenya experienced slower vaccine uptake and had higher death rates early on.\n",
    "- India had large case spikes in mid-2021, followed by strong vaccination growth.\n"
   ]
  }
 ],
 "metadata": {
  "language_info": {
   "name": "python"
  }
 },
 "nbformat": 4,
 "nbformat_minor": 5
}
